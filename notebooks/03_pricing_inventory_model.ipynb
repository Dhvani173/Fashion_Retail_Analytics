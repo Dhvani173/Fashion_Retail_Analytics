{
 "cells": [
  {
   "cell_type": "code",
   "execution_count": 1,
   "id": "3da6f660-e875-4bb2-8824-5147eef32604",
   "metadata": {},
   "outputs": [
    {
     "data": {
      "text/html": [
       "<div>\n",
       "<style scoped>\n",
       "    .dataframe tbody tr th:only-of-type {\n",
       "        vertical-align: middle;\n",
       "    }\n",
       "\n",
       "    .dataframe tbody tr th {\n",
       "        vertical-align: top;\n",
       "    }\n",
       "\n",
       "    .dataframe thead th {\n",
       "        text-align: right;\n",
       "    }\n",
       "</style>\n",
       "<table border=\"1\" class=\"dataframe\">\n",
       "  <thead>\n",
       "    <tr style=\"text-align: right;\">\n",
       "      <th></th>\n",
       "      <th>customer_id</th>\n",
       "      <th>recency</th>\n",
       "      <th>frequency</th>\n",
       "      <th>monetary</th>\n",
       "    </tr>\n",
       "  </thead>\n",
       "  <tbody>\n",
       "    <tr>\n",
       "      <th>0</th>\n",
       "      <td>3957</td>\n",
       "      <td>86</td>\n",
       "      <td>11</td>\n",
       "      <td>1150.0</td>\n",
       "    </tr>\n",
       "    <tr>\n",
       "      <th>1</th>\n",
       "      <td>3958</td>\n",
       "      <td>18</td>\n",
       "      <td>17</td>\n",
       "      <td>1334.0</td>\n",
       "    </tr>\n",
       "    <tr>\n",
       "      <th>2</th>\n",
       "      <td>3959</td>\n",
       "      <td>49</td>\n",
       "      <td>19</td>\n",
       "      <td>2047.0</td>\n",
       "    </tr>\n",
       "    <tr>\n",
       "      <th>3</th>\n",
       "      <td>3960</td>\n",
       "      <td>18</td>\n",
       "      <td>15</td>\n",
       "      <td>1434.0</td>\n",
       "    </tr>\n",
       "    <tr>\n",
       "      <th>4</th>\n",
       "      <td>3961</td>\n",
       "      <td>34</td>\n",
       "      <td>17</td>\n",
       "      <td>1811.0</td>\n",
       "    </tr>\n",
       "  </tbody>\n",
       "</table>\n",
       "</div>"
      ],
      "text/plain": [
       "   customer_id  recency  frequency  monetary\n",
       "0         3957       86         11    1150.0\n",
       "1         3958       18         17    1334.0\n",
       "2         3959       49         19    2047.0\n",
       "3         3960       18         15    1434.0\n",
       "4         3961       34         17    1811.0"
      ]
     },
     "execution_count": 1,
     "metadata": {},
     "output_type": "execute_result"
    }
   ],
   "source": [
    "import pandas as pd\n",
    "import numpy as np\n",
    "\n",
    "df = pd.read_csv(\"../data/processed/cleaned_fashion_sales.csv\")\n",
    "df['date_purchase'] = pd.to_datetime(df['date_purchase'])\n",
    "\n",
    "snapshot_date = df['date_purchase'].max() + pd.Timedelta(days=1)\n",
    "\n",
    "rfm = df.groupby('customer_reference_id').agg({\n",
    "    'date_purchase': lambda x: (snapshot_date - x.max()).days,  # Recency\n",
    "    'item_purchased': 'count',                                   # Frequency\n",
    "    'purchase_amount_(usd)': 'sum'                               # Monetary\n",
    "}).reset_index()\n",
    "\n",
    "rfm.columns = ['customer_id', 'recency', 'frequency', 'monetary']\n",
    "rfm.head()"
   ]
  },
  {
   "cell_type": "code",
   "execution_count": 3,
   "id": "58c6d41b-8255-4190-967b-648700980c5e",
   "metadata": {},
   "outputs": [
    {
     "data": {
      "text/html": [
       "<div>\n",
       "<style scoped>\n",
       "    .dataframe tbody tr th:only-of-type {\n",
       "        vertical-align: middle;\n",
       "    }\n",
       "\n",
       "    .dataframe tbody tr th {\n",
       "        vertical-align: top;\n",
       "    }\n",
       "\n",
       "    .dataframe thead th {\n",
       "        text-align: right;\n",
       "    }\n",
       "</style>\n",
       "<table border=\"1\" class=\"dataframe\">\n",
       "  <thead>\n",
       "    <tr style=\"text-align: right;\">\n",
       "      <th></th>\n",
       "      <th>revenue</th>\n",
       "      <th>abc_class</th>\n",
       "    </tr>\n",
       "    <tr>\n",
       "      <th>item_purchased</th>\n",
       "      <th></th>\n",
       "      <th></th>\n",
       "    </tr>\n",
       "  </thead>\n",
       "  <tbody>\n",
       "    <tr>\n",
       "      <th>Tunic</th>\n",
       "      <td>17275.0</td>\n",
       "      <td>A</td>\n",
       "    </tr>\n",
       "    <tr>\n",
       "      <th>Jeans</th>\n",
       "      <td>13068.0</td>\n",
       "      <td>A</td>\n",
       "    </tr>\n",
       "    <tr>\n",
       "      <th>Pajamas</th>\n",
       "      <td>12798.0</td>\n",
       "      <td>A</td>\n",
       "    </tr>\n",
       "    <tr>\n",
       "      <th>Shorts</th>\n",
       "      <td>12702.0</td>\n",
       "      <td>A</td>\n",
       "    </tr>\n",
       "    <tr>\n",
       "      <th>Handbag</th>\n",
       "      <td>12668.0</td>\n",
       "      <td>A</td>\n",
       "    </tr>\n",
       "  </tbody>\n",
       "</table>\n",
       "</div>"
      ],
      "text/plain": [
       "                revenue abc_class\n",
       "item_purchased                   \n",
       "Tunic           17275.0         A\n",
       "Jeans           13068.0         A\n",
       "Pajamas         12798.0         A\n",
       "Shorts          12702.0         A\n",
       "Handbag         12668.0         A"
      ]
     },
     "execution_count": 3,
     "metadata": {},
     "output_type": "execute_result"
    }
   ],
   "source": [
    "product_revenue = df.groupby('item_purchased')['purchase_amount_(usd)'].sum().sort_values(ascending=False)\n",
    "\n",
    "# ABC classification\n",
    "total_revenue = product_revenue.sum()\n",
    "abc = product_revenue.cumsum() / total_revenue\n",
    "\n",
    "def classify_abc(x):\n",
    "    if x <= 0.8:\n",
    "        return 'A'\n",
    "    elif x <= 0.95:\n",
    "        return 'B'\n",
    "    else:\n",
    "        return 'C'\n",
    "\n",
    "abc_class = abc.apply(classify_abc)\n",
    "abc_df = pd.DataFrame({'revenue': product_revenue, 'abc_class': abc_class})\n",
    "abc_df.head()"
   ]
  },
  {
   "cell_type": "code",
   "execution_count": 5,
   "id": "bcd1ff5d-7f3c-4557-9c51-87c021c3d3ab",
   "metadata": {},
   "outputs": [
    {
     "data": {
      "text/html": [
       "<div>\n",
       "<style scoped>\n",
       "    .dataframe tbody tr th:only-of-type {\n",
       "        vertical-align: middle;\n",
       "    }\n",
       "\n",
       "    .dataframe tbody tr th {\n",
       "        vertical-align: top;\n",
       "    }\n",
       "\n",
       "    .dataframe thead th {\n",
       "        text-align: right;\n",
       "    }\n",
       "</style>\n",
       "<table border=\"1\" class=\"dataframe\">\n",
       "  <thead>\n",
       "    <tr style=\"text-align: right;\">\n",
       "      <th></th>\n",
       "      <th>volatility_score</th>\n",
       "    </tr>\n",
       "    <tr>\n",
       "      <th>item_purchased</th>\n",
       "      <th></th>\n",
       "    </tr>\n",
       "  </thead>\n",
       "  <tbody>\n",
       "    <tr>\n",
       "      <th>Backpack</th>\n",
       "      <td>128.759856</td>\n",
       "    </tr>\n",
       "    <tr>\n",
       "      <th>Belt</th>\n",
       "      <td>671.411540</td>\n",
       "    </tr>\n",
       "    <tr>\n",
       "      <th>Blazer</th>\n",
       "      <td>750.815663</td>\n",
       "    </tr>\n",
       "    <tr>\n",
       "      <th>Blouse</th>\n",
       "      <td>660.842815</td>\n",
       "    </tr>\n",
       "    <tr>\n",
       "      <th>Boots</th>\n",
       "      <td>821.676513</td>\n",
       "    </tr>\n",
       "  </tbody>\n",
       "</table>\n",
       "</div>"
      ],
      "text/plain": [
       "                volatility_score\n",
       "item_purchased                  \n",
       "Backpack              128.759856\n",
       "Belt                  671.411540\n",
       "Blazer                750.815663\n",
       "Blouse                660.842815\n",
       "Boots                 821.676513"
      ]
     },
     "execution_count": 5,
     "metadata": {},
     "output_type": "execute_result"
    }
   ],
   "source": [
    "df['week'] = df['date_purchase'].dt.isocalendar().week\n",
    "\n",
    "weekly_sales = df.groupby(['item_purchased', 'week'])['purchase_amount_(usd)'].sum().reset_index()\n",
    "\n",
    "volatility = weekly_sales.groupby('item_purchased')['purchase_amount_(usd)'].std().fillna(0)\n",
    "volatility_df = pd.DataFrame({'volatility_score': volatility})\n",
    "volatility_df.head()"
   ]
  },
  {
   "cell_type": "code",
   "execution_count": 7,
   "id": "13f2818b-82ec-40dc-941e-fe1c571ee535",
   "metadata": {},
   "outputs": [
    {
     "data": {
      "text/html": [
       "<div>\n",
       "<style scoped>\n",
       "    .dataframe tbody tr th:only-of-type {\n",
       "        vertical-align: middle;\n",
       "    }\n",
       "\n",
       "    .dataframe tbody tr th {\n",
       "        vertical-align: top;\n",
       "    }\n",
       "\n",
       "    .dataframe thead th {\n",
       "        text-align: right;\n",
       "    }\n",
       "</style>\n",
       "<table border=\"1\" class=\"dataframe\">\n",
       "  <thead>\n",
       "    <tr style=\"text-align: right;\">\n",
       "      <th></th>\n",
       "      <th>purchase_amount_(usd)</th>\n",
       "      <th>review_rating</th>\n",
       "      <th>simulated_price</th>\n",
       "    </tr>\n",
       "  </thead>\n",
       "  <tbody>\n",
       "    <tr>\n",
       "      <th>0</th>\n",
       "      <td>4619.0</td>\n",
       "      <td>3.0</td>\n",
       "      <td>4619.0</td>\n",
       "    </tr>\n",
       "    <tr>\n",
       "      <th>1</th>\n",
       "      <td>2456.0</td>\n",
       "      <td>2.0</td>\n",
       "      <td>2210.4</td>\n",
       "    </tr>\n",
       "    <tr>\n",
       "      <th>2</th>\n",
       "      <td>2102.0</td>\n",
       "      <td>4.1</td>\n",
       "      <td>2102.0</td>\n",
       "    </tr>\n",
       "    <tr>\n",
       "      <th>3</th>\n",
       "      <td>3126.0</td>\n",
       "      <td>3.2</td>\n",
       "      <td>3126.0</td>\n",
       "    </tr>\n",
       "    <tr>\n",
       "      <th>4</th>\n",
       "      <td>3003.0</td>\n",
       "      <td>4.7</td>\n",
       "      <td>3303.3</td>\n",
       "    </tr>\n",
       "  </tbody>\n",
       "</table>\n",
       "</div>"
      ],
      "text/plain": [
       "   purchase_amount_(usd)  review_rating  simulated_price\n",
       "0                 4619.0            3.0           4619.0\n",
       "1                 2456.0            2.0           2210.4\n",
       "2                 2102.0            4.1           2102.0\n",
       "3                 3126.0            3.2           3126.0\n",
       "4                 3003.0            4.7           3303.3"
      ]
     },
     "execution_count": 7,
     "metadata": {},
     "output_type": "execute_result"
    }
   ],
   "source": [
    "# Define rule-based price adjustments\n",
    "df['simulated_price'] = df.apply(\n",
    "    lambda row: row['purchase_amount_(usd)'] * 1.1 if row['review_rating'] >= 4.5\n",
    "    else row['purchase_amount_(usd)'] * 0.9 if row['review_rating'] < 3\n",
    "    else row['purchase_amount_(usd)'],\n",
    "    axis=1\n",
    ")\n",
    "df[['purchase_amount_(usd)', 'review_rating', 'simulated_price']].head()"
   ]
  },
  {
   "cell_type": "code",
   "execution_count": 9,
   "id": "9cbd5dab-73b0-4c86-a17f-ac074b371a51",
   "metadata": {},
   "outputs": [
    {
     "data": {
      "text/html": [
       "<div>\n",
       "<style scoped>\n",
       "    .dataframe tbody tr th:only-of-type {\n",
       "        vertical-align: middle;\n",
       "    }\n",
       "\n",
       "    .dataframe tbody tr th {\n",
       "        vertical-align: top;\n",
       "    }\n",
       "\n",
       "    .dataframe thead th {\n",
       "        text-align: right;\n",
       "    }\n",
       "</style>\n",
       "<table border=\"1\" class=\"dataframe\">\n",
       "  <thead>\n",
       "    <tr style=\"text-align: right;\">\n",
       "      <th></th>\n",
       "      <th>item_purchased</th>\n",
       "      <th>revenue</th>\n",
       "      <th>abc_class</th>\n",
       "      <th>volatility_score</th>\n",
       "    </tr>\n",
       "  </thead>\n",
       "  <tbody>\n",
       "    <tr>\n",
       "      <th>0</th>\n",
       "      <td>Tunic</td>\n",
       "      <td>17275.0</td>\n",
       "      <td>A</td>\n",
       "      <td>1127.043877</td>\n",
       "    </tr>\n",
       "    <tr>\n",
       "      <th>1</th>\n",
       "      <td>Jeans</td>\n",
       "      <td>13068.0</td>\n",
       "      <td>A</td>\n",
       "      <td>1026.742047</td>\n",
       "    </tr>\n",
       "    <tr>\n",
       "      <th>2</th>\n",
       "      <td>Pajamas</td>\n",
       "      <td>12798.0</td>\n",
       "      <td>A</td>\n",
       "      <td>735.944932</td>\n",
       "    </tr>\n",
       "    <tr>\n",
       "      <th>3</th>\n",
       "      <td>Shorts</td>\n",
       "      <td>12702.0</td>\n",
       "      <td>A</td>\n",
       "      <td>802.003068</td>\n",
       "    </tr>\n",
       "    <tr>\n",
       "      <th>4</th>\n",
       "      <td>Handbag</td>\n",
       "      <td>12668.0</td>\n",
       "      <td>A</td>\n",
       "      <td>823.926411</td>\n",
       "    </tr>\n",
       "  </tbody>\n",
       "</table>\n",
       "</div>"
      ],
      "text/plain": [
       "  item_purchased  revenue abc_class  volatility_score\n",
       "0          Tunic  17275.0         A       1127.043877\n",
       "1          Jeans  13068.0         A       1026.742047\n",
       "2        Pajamas  12798.0         A        735.944932\n",
       "3         Shorts  12702.0         A        802.003068\n",
       "4        Handbag  12668.0         A        823.926411"
      ]
     },
     "execution_count": 9,
     "metadata": {},
     "output_type": "execute_result"
    }
   ],
   "source": [
    "# Merge ABC and volatility data for inventory strategy\n",
    "inventory_analysis = abc_df.merge(volatility_df, left_index=True, right_index=True)\n",
    "inventory_analysis.reset_index(inplace=True)\n",
    "inventory_analysis.rename(columns={'index': 'item_purchased'}, inplace=True)\n",
    "inventory_analysis.head()"
   ]
  },
  {
   "cell_type": "code",
   "execution_count": 11,
   "id": "efab2987-cc10-4fd6-ac85-af18b1a6a764",
   "metadata": {},
   "outputs": [
    {
     "data": {
      "image/png": "[encoded data removed]",
      "text/plain": [
       "<Figure size 640x480 with 1 Axes>"
      ]
     },
     "metadata": {},
     "output_type": "display_data"
    }
   ],
   "source": [
    "import seaborn as sns\n",
    "import matplotlib.pyplot as plt\n",
    "\n",
    "sns.countplot(data=inventory_analysis, x='abc_class', order=['A', 'B', 'C'], palette='pastel')\n",
    "plt.title(\"Inventory Classification (ABC Analysis)\")\n",
    "plt.xlabel(\"Class\")\n",
    "plt.ylabel(\"Number of Items\")\n",
    "plt.tight_layout()\n",
    "plt.show()"
   ]
  },
  {
   "cell_type": "code",
   "execution_count": 19,
   "id": "2105bd43-7daf-48a5-9ac8-7ca1d80109db",
   "metadata": {},
   "outputs": [
    {
     "data": {
      "image/png": "[encoded data removed]",
      "text/plain": [
       "<Figure size 640x480 with 1 Axes>"
      ]
     },
     "metadata": {},
     "output_type": "display_data"
    }
   ],
   "source": [
    "import warnings\n",
    "warnings.simplefilter(action='ignore', category=FutureWarning)\n",
    "sns.histplot(inventory_analysis['volatility_score'], bins=20, color='skyblue')\n",
    "plt.title(\"Distribution of Weekly Demand Volatility\")\n",
    "plt.xlabel(\"Volatility Score\")\n",
    "plt.ylabel(\"Number of Products\")\n",
    "plt.tight_layout()\n",
    "plt.show()"
   ]
  },
  {
   "cell_type": "code",
   "execution_count": 21,
   "id": "c9070ec0-1034-41ca-88cf-193920a0ded0",
   "metadata": {},
   "outputs": [
    {
     "data": {
      "image/png": "[encoded data removed]",
      "text/plain": [
       "<Figure size 640x480 with 1 Axes>"
      ]
     },
     "metadata": {},
     "output_type": "display_data"
    }
   ],
   "source": [
    "df['price_change_%'] = ((df['simulated_price'] - df['purchase_amount_(usd)']) / df['purchase_amount_(usd)']) * 100\n",
    "\n",
    "sns.histplot(df['price_change_%'], bins=15, kde=True, color='salmon')\n",
    "plt.title(\"Simulated Price Change Distribution\")\n",
    "plt.xlabel(\"Price Change (%)\")\n",
    "plt.tight_layout()\n",
    "plt.show()"
   ]
  },
  {
   "cell_type": "code",
   "execution_count": 17,
   "id": "053ffeec-187b-4a35-8d5d-5c66c45b8ace",
   "metadata": {},
   "outputs": [],
   "source": [
    "inventory_analysis.to_csv(\"../data/processed/inventory_strategy_summary.csv\", index=False)\n",
    "df.to_csv(\"../data/processed/simulated_pricing.csv\", index=False)"
   ]
  },
  {
   "cell_type": "code",
   "execution_count": null,
   "id": "1cfdc05f-d4e2-47d8-977c-96cc3c72a821",
   "metadata": {},
   "outputs": [],
   "source": []
  }
 ],
 "metadata": {
  "kernelspec": {
   "display_name": "Python 3 (ipykernel)",
   "language": "python",
   "name": "python3"
  },
  "language_info": {
   "codemirror_mode": {
    "name": "ipython",
    "version": 3
   },
   "file_extension": ".py",
   "mimetype": "text/x-python",
   "name": "python",
   "nbconvert_exporter": "python",
   "pygments_lexer": "ipython3",
   "version": "3.11.5"
  }
 },
 "nbformat": 4,
 "nbformat_minor": 5
}
